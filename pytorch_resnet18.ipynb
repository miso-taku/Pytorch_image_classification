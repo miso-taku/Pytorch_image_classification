{
 "cells": [
  {
   "cell_type": "code",
   "execution_count": null,
   "metadata": {},
   "outputs": [],
   "source": [
    "import torchvision.transforms as transforms\n",
    "\n",
    "transform = transforms.Compose([\n",
    "    transforms.Resize(256),\n",
    "    transforms.CenterCrop(224),\n",
    "    transforms.ToTensor(),\n",
    "    transforms.Normalize(mean=[0.485, 0.456, 0.406], std=[0.229, 0.224, 0.225]),\n",
    "])"
   ]
  },
  {
   "cell_type": "code",
   "execution_count": null,
   "metadata": {},
   "outputs": [],
   "source": [
    "from torchvision.datasets import ImageFolder\n",
    "\n",
    "data_folder = \"../img\"\n",
    "data = ImageFolder(root=data_folder, transform=transform)"
   ]
  },
  {
   "cell_type": "code",
   "execution_count": null,
   "metadata": {},
   "outputs": [],
   "source": [
    "from torch.utils.data import random_split\n",
    "\n",
    "train_size = int(0.8 * len(data))\n",
    "val_size  = len(data) - train_size      \n",
    "data_size  = {\"train\":train_size, \"val\":val_size}\n",
    "data_train, data_val = random_split(data, [train_size, val_size])"
   ]
  },
  {
   "cell_type": "code",
   "execution_count": null,
   "metadata": {},
   "outputs": [],
   "source": [
    "from torch.utils.data import DataLoader\n",
    "\n",
    "batch_size = 128\n",
    "\n",
    "train_loader = DataLoader(data_train, batch_size=batch_size, shuffle=True)\n",
    "val_loader   = DataLoader(data_val,   batch_size=batch_size, shuffle=False)"
   ]
  },
  {
   "cell_type": "code",
   "execution_count": null,
   "metadata": {},
   "outputs": [],
   "source": [
    "import torchvision.models as models\n",
    "\n",
    "net = models.resnet18(pretrained=True)\n",
    "print(net)"
   ]
  },
  {
   "cell_type": "code",
   "execution_count": null,
   "metadata": {},
   "outputs": [],
   "source": [
    "import torch.nn as nn\n",
    "\n",
    "for param in net.parameters():\n",
    "    param.requires_grad = False\n",
    "    \n",
    "net.fc = nn.Linear(512, 3)\n",
    "\n",
    "# net.cuda()\n",
    "print(net)"
   ]
  },
  {
   "cell_type": "code",
   "execution_count": null,
   "metadata": {},
   "outputs": [],
   "source": [
    "import copy\n",
    "from torch import optim\n",
    "\n",
    "loss_fnc = nn.CrossEntropyLoss()\n",
    "optimizer = optim.Adam(net.parameters())\n",
    "\n",
    "record_loss_train = []\n",
    "record_loss_test = []\n",
    "\n",
    "best_loss_test = 0.16\n",
    "for i in range(20):\n",
    "# for i in range(25):\n",
    "    net.train()\n",
    "    loss_train = 0\n",
    "    for j, (x, t) in enumerate(train_loader):\n",
    "        # x, t = x.cuda(), t.cuda()\n",
    "        y = net(x)\n",
    "        loss = loss_fnc(y, t)\n",
    "        loss_train += loss.item()\n",
    "        optimizer.zero_grad()\n",
    "        loss.backward()\n",
    "        optimizer.step()\n",
    "    loss_train /= j+1\n",
    "    record_loss_train.append(loss_train)\n",
    "    \n",
    "    net.eval()\n",
    "    loss_test = 0\n",
    "    for j, (x, t) in enumerate(val_loader):\n",
    "        # x, t = x.cuda(), t.cuda()\n",
    "        y = net(x)\n",
    "        loss = loss_fnc(y, t)\n",
    "        loss_test += loss.item()\n",
    "    loss_test /= j+1\n",
    "    record_loss_test.append(loss_test)\n",
    "    \n",
    "    if best_loss_test > loss_test:\n",
    "        best_loss_test = loss_test\n",
    "        best_model = copy.deepcopy(net.state_dict())\n",
    "\n",
    "    print(\"Epoch:\", i, \"Loss_Train:\", loss_train, \"Loss_Test:\", loss_test)"
   ]
  },
  {
   "cell_type": "code",
   "execution_count": null,
   "metadata": {},
   "outputs": [],
   "source": [
    "import matplotlib.pyplot as plt\n",
    "\n",
    "plt.plot(range(len(record_loss_train)), record_loss_train, label='Train')\n",
    "plt.plot(range(len(record_loss_test)), record_loss_test, label='Test')\n",
    "\n",
    "plt.xlabel(\"Epochs\")\n",
    "plt.ylabel(\"Error\")\n",
    "plt.legend()\n",
    "plt.show()"
   ]
  },
  {
   "cell_type": "code",
   "execution_count": null,
   "metadata": {},
   "outputs": [],
   "source": [
    "correct = 0\n",
    "total = 0\n",
    "net.eval()  # 評価モード\n",
    "for i, (x, t) in enumerate(val_loader):\n",
    "    # x, t = x.cuda(), t.cuda()  # GPU対応\n",
    "    y = net(x)\n",
    "    correct += (y.argmax(1) == t).sum().item()\n",
    "    total += len(x)\n",
    "print(\"正解率:\", str(correct/total*100) + \"%\")"
   ]
  },
  {
   "cell_type": "code",
   "execution_count": null,
   "metadata": {},
   "outputs": [],
   "source": [
    "import torch\n",
    "\n",
    "torch.save(net, './model/resnet18.pth')"
   ]
  },
  {
   "cell_type": "code",
   "execution_count": null,
   "metadata": {},
   "outputs": [],
   "source": []
  },
  {
   "cell_type": "code",
   "execution_count": null,
   "metadata": {},
   "outputs": [],
   "source": []
  }
 ],
 "metadata": {
  "kernelspec": {
   "display_name": "Python 3.8.3 ('base')",
   "language": "python",
   "name": "python3"
  },
  "language_info": {
   "name": "python",
   "version": "3.8.3"
  },
  "orig_nbformat": 4,
  "vscode": {
   "interpreter": {
    "hash": "f8de3172cea1e13aa923bf2507e7d9b06de12f75b4c37cff6b4af6305c9760e5"
   }
  }
 },
 "nbformat": 4,
 "nbformat_minor": 2
}
